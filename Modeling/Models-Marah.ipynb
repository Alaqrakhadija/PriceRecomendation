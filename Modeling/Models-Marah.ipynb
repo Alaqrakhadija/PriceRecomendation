{
 "cells": [
  {
   "cell_type": "code",
   "execution_count": 1,
   "id": "c8005d82",
   "metadata": {},
   "outputs": [],
   "source": [
    "import pandas as pd\n",
    "import numpy as np\n",
    "import time\n",
    "import warnings\n",
    "warnings.filterwarnings('ignore')\n",
    "import re\n",
    "import seaborn as sns\n",
    "import matplotlib.pyplot as plt\n",
    "from sklearn.preprocessing import OneHotEncoder\n",
    "from sklearn.model_selection import train_test_split\n",
    "from sklearn.feature_extraction.text import CountVectorizer,TfidfVectorizer\n",
    "from scipy.sparse import hstack\n",
    "from sklearn.linear_model import LinearRegression\n",
    "from sklearn.linear_model import SGDRegressor\n",
    "from sklearn.linear_model import Ridge\n",
    "from sklearn.linear_model import Lasso\n",
    "from sklearn.metrics import mean_squared_error\n",
    "from sklearn.model_selection import RandomizedSearchCV,GridSearchCV\n",
    "from scipy.stats import uniform\n",
    "from sklearn.preprocessing import LabelEncoder\n",
    "from sklearn.preprocessing import OrdinalEncoder\n",
    "from sklearn.tree import DecisionTreeRegressor\n",
    "from sklearn.ensemble import RandomForestRegressor\n",
    "import xgboost as xg\n",
    "from gensim.models import Word2Vec\n",
    "from lightgbm import LGBMRegressor\n",
    "from wordcloud import WordCloud, STOPWORDS\n",
    "from tqdm import tqdm\n",
    "import nltk\n",
    "from nltk.corpus import stopwords"
   ]
  },
  {
   "cell_type": "code",
   "execution_count": 2,
   "id": "ef1777a8",
   "metadata": {},
   "outputs": [
    {
     "data": {
      "text/html": [
       "<div>\n",
       "<style scoped>\n",
       "    .dataframe tbody tr th:only-of-type {\n",
       "        vertical-align: middle;\n",
       "    }\n",
       "\n",
       "    .dataframe tbody tr th {\n",
       "        vertical-align: top;\n",
       "    }\n",
       "\n",
       "    .dataframe thead th {\n",
       "        text-align: right;\n",
       "    }\n",
       "</style>\n",
       "<table border=\"1\" class=\"dataframe\">\n",
       "  <thead>\n",
       "    <tr style=\"text-align: right;\">\n",
       "      <th></th>\n",
       "      <th>name</th>\n",
       "      <th>item_condition_id</th>\n",
       "      <th>category_name</th>\n",
       "      <th>brand_name</th>\n",
       "      <th>price</th>\n",
       "      <th>shipping</th>\n",
       "      <th>item_description</th>\n",
       "    </tr>\n",
       "    <tr>\n",
       "      <th>train_id</th>\n",
       "      <th></th>\n",
       "      <th></th>\n",
       "      <th></th>\n",
       "      <th></th>\n",
       "      <th></th>\n",
       "      <th></th>\n",
       "      <th></th>\n",
       "    </tr>\n",
       "  </thead>\n",
       "  <tbody>\n",
       "    <tr>\n",
       "      <th>0</th>\n",
       "      <td>MLB Cincinnati Reds T Shirt Size XL</td>\n",
       "      <td>3</td>\n",
       "      <td>Men/Tops/T-shirts</td>\n",
       "      <td>NaN</td>\n",
       "      <td>10.0</td>\n",
       "      <td>1</td>\n",
       "      <td>No description yet</td>\n",
       "    </tr>\n",
       "    <tr>\n",
       "      <th>1</th>\n",
       "      <td>Razer BlackWidow Chroma Keyboard</td>\n",
       "      <td>3</td>\n",
       "      <td>Electronics/Computers &amp; Tablets/Components &amp; P...</td>\n",
       "      <td>Razer</td>\n",
       "      <td>52.0</td>\n",
       "      <td>0</td>\n",
       "      <td>This keyboard is in great condition and works ...</td>\n",
       "    </tr>\n",
       "    <tr>\n",
       "      <th>2</th>\n",
       "      <td>AVA-VIV Blouse</td>\n",
       "      <td>1</td>\n",
       "      <td>Women/Tops &amp; Blouses/Blouse</td>\n",
       "      <td>Target</td>\n",
       "      <td>10.0</td>\n",
       "      <td>1</td>\n",
       "      <td>Adorable top with a hint of lace and a key hol...</td>\n",
       "    </tr>\n",
       "    <tr>\n",
       "      <th>3</th>\n",
       "      <td>Leather Horse Statues</td>\n",
       "      <td>1</td>\n",
       "      <td>Home/Home Décor/Home Décor Accents</td>\n",
       "      <td>NaN</td>\n",
       "      <td>35.0</td>\n",
       "      <td>1</td>\n",
       "      <td>New with tags. Leather horses. Retail for [rm]...</td>\n",
       "    </tr>\n",
       "    <tr>\n",
       "      <th>4</th>\n",
       "      <td>24K GOLD plated rose</td>\n",
       "      <td>1</td>\n",
       "      <td>Women/Jewelry/Necklaces</td>\n",
       "      <td>NaN</td>\n",
       "      <td>44.0</td>\n",
       "      <td>0</td>\n",
       "      <td>Complete with certificate of authenticity</td>\n",
       "    </tr>\n",
       "  </tbody>\n",
       "</table>\n",
       "</div>"
      ],
      "text/plain": [
       "                                         name  item_condition_id  \\\n",
       "train_id                                                           \n",
       "0         MLB Cincinnati Reds T Shirt Size XL                  3   \n",
       "1            Razer BlackWidow Chroma Keyboard                  3   \n",
       "2                              AVA-VIV Blouse                  1   \n",
       "3                       Leather Horse Statues                  1   \n",
       "4                        24K GOLD plated rose                  1   \n",
       "\n",
       "                                              category_name brand_name  price  \\\n",
       "train_id                                                                        \n",
       "0                                         Men/Tops/T-shirts        NaN   10.0   \n",
       "1         Electronics/Computers & Tablets/Components & P...      Razer   52.0   \n",
       "2                               Women/Tops & Blouses/Blouse     Target   10.0   \n",
       "3                        Home/Home Décor/Home Décor Accents        NaN   35.0   \n",
       "4                                   Women/Jewelry/Necklaces        NaN   44.0   \n",
       "\n",
       "          shipping                                   item_description  \n",
       "train_id                                                               \n",
       "0                1                                 No description yet  \n",
       "1                0  This keyboard is in great condition and works ...  \n",
       "2                1  Adorable top with a hint of lace and a key hol...  \n",
       "3                1  New with tags. Leather horses. Retail for [rm]...  \n",
       "4                0          Complete with certificate of authenticity  "
      ]
     },
     "execution_count": 2,
     "metadata": {},
     "output_type": "execute_result"
    }
   ],
   "source": [
    "# LOADING THE  TRAIN DATASET\n",
    "df =  pd.read_csv(r\"C:\\Users\\Msys\\Desktop\\Data Science-GSG\\train.tsv\",index_col=[\"train_id\"],sep='\\t')\n",
    "df.head()"
   ]
  },
  {
   "cell_type": "code",
   "execution_count": 3,
   "id": "ed3b0a9b",
   "metadata": {},
   "outputs": [
    {
     "data": {
      "text/html": [
       "<div>\n",
       "<style scoped>\n",
       "    .dataframe tbody tr th:only-of-type {\n",
       "        vertical-align: middle;\n",
       "    }\n",
       "\n",
       "    .dataframe tbody tr th {\n",
       "        vertical-align: top;\n",
       "    }\n",
       "\n",
       "    .dataframe thead th {\n",
       "        text-align: right;\n",
       "    }\n",
       "</style>\n",
       "<table border=\"1\" class=\"dataframe\">\n",
       "  <thead>\n",
       "    <tr style=\"text-align: right;\">\n",
       "      <th></th>\n",
       "      <th>name</th>\n",
       "      <th>item_condition_id</th>\n",
       "      <th>category_name</th>\n",
       "      <th>brand_name</th>\n",
       "      <th>shipping</th>\n",
       "      <th>item_description</th>\n",
       "    </tr>\n",
       "    <tr>\n",
       "      <th>test_id</th>\n",
       "      <th></th>\n",
       "      <th></th>\n",
       "      <th></th>\n",
       "      <th></th>\n",
       "      <th></th>\n",
       "      <th></th>\n",
       "    </tr>\n",
       "  </thead>\n",
       "  <tbody>\n",
       "    <tr>\n",
       "      <th>0</th>\n",
       "      <td>Breast cancer \"I fight like a girl\" ring</td>\n",
       "      <td>1</td>\n",
       "      <td>Women/Jewelry/Rings</td>\n",
       "      <td>NaN</td>\n",
       "      <td>1</td>\n",
       "      <td>Size 7</td>\n",
       "    </tr>\n",
       "    <tr>\n",
       "      <th>1</th>\n",
       "      <td>25 pcs NEW 7.5\"x12\" Kraft Bubble Mailers</td>\n",
       "      <td>1</td>\n",
       "      <td>Other/Office supplies/Shipping Supplies</td>\n",
       "      <td>NaN</td>\n",
       "      <td>1</td>\n",
       "      <td>25 pcs NEW 7.5\"x12\" Kraft Bubble Mailers Lined...</td>\n",
       "    </tr>\n",
       "    <tr>\n",
       "      <th>2</th>\n",
       "      <td>Coach bag</td>\n",
       "      <td>1</td>\n",
       "      <td>Vintage &amp; Collectibles/Bags and Purses/Handbag</td>\n",
       "      <td>Coach</td>\n",
       "      <td>1</td>\n",
       "      <td>Brand new coach bag. Bought for [rm] at a Coac...</td>\n",
       "    </tr>\n",
       "    <tr>\n",
       "      <th>3</th>\n",
       "      <td>Floral Kimono</td>\n",
       "      <td>2</td>\n",
       "      <td>Women/Sweaters/Cardigan</td>\n",
       "      <td>NaN</td>\n",
       "      <td>0</td>\n",
       "      <td>-floral kimono -never worn -lightweight and pe...</td>\n",
       "    </tr>\n",
       "    <tr>\n",
       "      <th>4</th>\n",
       "      <td>Life after Death</td>\n",
       "      <td>3</td>\n",
       "      <td>Other/Books/Religion &amp; Spirituality</td>\n",
       "      <td>NaN</td>\n",
       "      <td>1</td>\n",
       "      <td>Rediscovering life after the loss of a loved o...</td>\n",
       "    </tr>\n",
       "    <tr>\n",
       "      <th>...</th>\n",
       "      <td>...</td>\n",
       "      <td>...</td>\n",
       "      <td>...</td>\n",
       "      <td>...</td>\n",
       "      <td>...</td>\n",
       "      <td>...</td>\n",
       "    </tr>\n",
       "    <tr>\n",
       "      <th>693354</th>\n",
       "      <td>Quartz crystal on Flint stone</td>\n",
       "      <td>1</td>\n",
       "      <td>Home/Home Décor/Home Décor Accents</td>\n",
       "      <td>NaN</td>\n",
       "      <td>0</td>\n",
       "      <td>Flint/Quartz cluster. Self mined ✨measures 3x2...</td>\n",
       "    </tr>\n",
       "    <tr>\n",
       "      <th>693355</th>\n",
       "      <td>It Cosmetics - Travel Bundle</td>\n",
       "      <td>1</td>\n",
       "      <td>Beauty/Makeup/Makeup Sets</td>\n",
       "      <td>IT Cosmetics</td>\n",
       "      <td>1</td>\n",
       "      <td>It Cosmetics travel bundle. Includes: Brow pow...</td>\n",
       "    </tr>\n",
       "    <tr>\n",
       "      <th>693356</th>\n",
       "      <td>Galaxy S8 hard shell case</td>\n",
       "      <td>1</td>\n",
       "      <td>Electronics/Cell Phones &amp; Accessories/Cases, C...</td>\n",
       "      <td>NaN</td>\n",
       "      <td>1</td>\n",
       "      <td>New. Free shipping Basstop case</td>\n",
       "    </tr>\n",
       "    <tr>\n",
       "      <th>693357</th>\n",
       "      <td>Hi low floral kimono</td>\n",
       "      <td>2</td>\n",
       "      <td>Women/Swimwear/Cover-Ups</td>\n",
       "      <td>NaN</td>\n",
       "      <td>0</td>\n",
       "      <td>Floral kimono. Tropical print. Open front. Hi ...</td>\n",
       "    </tr>\n",
       "    <tr>\n",
       "      <th>693358</th>\n",
       "      <td>FREESHIP 2 Floral Scrub Tops, medium.</td>\n",
       "      <td>2</td>\n",
       "      <td>Women/Tops &amp; Blouses/T-Shirts</td>\n",
       "      <td>NaN</td>\n",
       "      <td>1</td>\n",
       "      <td>2 Floral scrub tops. Worn less than 5 times ea...</td>\n",
       "    </tr>\n",
       "  </tbody>\n",
       "</table>\n",
       "<p>693359 rows × 6 columns</p>\n",
       "</div>"
      ],
      "text/plain": [
       "                                             name  item_condition_id  \\\n",
       "test_id                                                                \n",
       "0        Breast cancer \"I fight like a girl\" ring                  1   \n",
       "1        25 pcs NEW 7.5\"x12\" Kraft Bubble Mailers                  1   \n",
       "2                                       Coach bag                  1   \n",
       "3                                   Floral Kimono                  2   \n",
       "4                                Life after Death                  3   \n",
       "...                                           ...                ...   \n",
       "693354              Quartz crystal on Flint stone                  1   \n",
       "693355               It Cosmetics - Travel Bundle                  1   \n",
       "693356                  Galaxy S8 hard shell case                  1   \n",
       "693357                       Hi low floral kimono                  2   \n",
       "693358      FREESHIP 2 Floral Scrub Tops, medium.                  2   \n",
       "\n",
       "                                             category_name    brand_name  \\\n",
       "test_id                                                                    \n",
       "0                                      Women/Jewelry/Rings           NaN   \n",
       "1                  Other/Office supplies/Shipping Supplies           NaN   \n",
       "2           Vintage & Collectibles/Bags and Purses/Handbag         Coach   \n",
       "3                                  Women/Sweaters/Cardigan           NaN   \n",
       "4                      Other/Books/Religion & Spirituality           NaN   \n",
       "...                                                    ...           ...   \n",
       "693354                  Home/Home Décor/Home Décor Accents           NaN   \n",
       "693355                           Beauty/Makeup/Makeup Sets  IT Cosmetics   \n",
       "693356   Electronics/Cell Phones & Accessories/Cases, C...           NaN   \n",
       "693357                            Women/Swimwear/Cover-Ups           NaN   \n",
       "693358                       Women/Tops & Blouses/T-Shirts           NaN   \n",
       "\n",
       "         shipping                                   item_description  \n",
       "test_id                                                               \n",
       "0               1                                             Size 7  \n",
       "1               1  25 pcs NEW 7.5\"x12\" Kraft Bubble Mailers Lined...  \n",
       "2               1  Brand new coach bag. Bought for [rm] at a Coac...  \n",
       "3               0  -floral kimono -never worn -lightweight and pe...  \n",
       "4               1  Rediscovering life after the loss of a loved o...  \n",
       "...           ...                                                ...  \n",
       "693354          0  Flint/Quartz cluster. Self mined ✨measures 3x2...  \n",
       "693355          1  It Cosmetics travel bundle. Includes: Brow pow...  \n",
       "693356          1                    New. Free shipping Basstop case  \n",
       "693357          0  Floral kimono. Tropical print. Open front. Hi ...  \n",
       "693358          1  2 Floral scrub tops. Worn less than 5 times ea...  \n",
       "\n",
       "[693359 rows x 6 columns]"
      ]
     },
     "execution_count": 3,
     "metadata": {},
     "output_type": "execute_result"
    }
   ],
   "source": [
    "# LOADING THE TEST DATASET\n",
    "df_test  =pd.read_csv(r\"C:\\Users\\Msys\\Desktop\\Data Science-GSG\\test.tsv\",index_col=[\"test_id\"],sep='\\t')\n",
    "df_test"
   ]
  },
  {
   "cell_type": "markdown",
   "id": "9668b76b",
   "metadata": {},
   "source": [
    "## Basic Statictics"
   ]
  },
  {
   "cell_type": "code",
   "execution_count": 4,
   "id": "5b54a542",
   "metadata": {},
   "outputs": [
    {
     "data": {
      "text/plain": [
       "(1482535, 7)"
      ]
     },
     "execution_count": 4,
     "metadata": {},
     "output_type": "execute_result"
    }
   ],
   "source": [
    "#GETTING THE SHAPE OF THE DATASET\n",
    "df.shape"
   ]
  },
  {
   "cell_type": "code",
   "execution_count": 5,
   "id": "c7d1cfbc",
   "metadata": {},
   "outputs": [
    {
     "name": "stdout",
     "output_type": "stream",
     "text": [
      "<class 'pandas.core.frame.DataFrame'>\n",
      "Int64Index: 1482535 entries, 0 to 1482534\n",
      "Data columns (total 7 columns):\n",
      " #   Column             Non-Null Count    Dtype  \n",
      "---  ------             --------------    -----  \n",
      " 0   name               1482535 non-null  object \n",
      " 1   item_condition_id  1482535 non-null  int64  \n",
      " 2   category_name      1476208 non-null  object \n",
      " 3   brand_name         849853 non-null   object \n",
      " 4   price              1482535 non-null  float64\n",
      " 5   shipping           1482535 non-null  int64  \n",
      " 6   item_description   1482531 non-null  object \n",
      "dtypes: float64(1), int64(2), object(4)\n",
      "memory usage: 90.5+ MB\n"
     ]
    }
   ],
   "source": [
    "#GETTING THE BASIC INFO ABOUT THE DATASET\n",
    "df.info()"
   ]
  },
  {
   "cell_type": "markdown",
   "id": "cf899ed7",
   "metadata": {},
   "source": [
    "##### Observation :\n",
    "* We can observe that out of all the features present category_name,\"brand_name\" and \"item_description\" contains some null values."
   ]
  },
  {
   "cell_type": "markdown",
   "id": "cb0eb8a4",
   "metadata": {},
   "source": [
    "## Preprocessing"
   ]
  },
  {
   "cell_type": "markdown",
   "id": "b51b82fb",
   "metadata": {},
   "source": [
    "### 'price'"
   ]
  },
  {
   "cell_type": "code",
   "execution_count": 6,
   "id": "93304032",
   "metadata": {},
   "outputs": [
    {
     "data": {
      "text/html": [
       "<div>\n",
       "<style scoped>\n",
       "    .dataframe tbody tr th:only-of-type {\n",
       "        vertical-align: middle;\n",
       "    }\n",
       "\n",
       "    .dataframe tbody tr th {\n",
       "        vertical-align: top;\n",
       "    }\n",
       "\n",
       "    .dataframe thead th {\n",
       "        text-align: right;\n",
       "    }\n",
       "</style>\n",
       "<table border=\"1\" class=\"dataframe\">\n",
       "  <thead>\n",
       "    <tr style=\"text-align: right;\">\n",
       "      <th></th>\n",
       "      <th>name</th>\n",
       "      <th>item_condition_id</th>\n",
       "      <th>category_name</th>\n",
       "      <th>brand_name</th>\n",
       "      <th>price</th>\n",
       "      <th>shipping</th>\n",
       "      <th>item_description</th>\n",
       "      <th>log_price</th>\n",
       "    </tr>\n",
       "    <tr>\n",
       "      <th>train_id</th>\n",
       "      <th></th>\n",
       "      <th></th>\n",
       "      <th></th>\n",
       "      <th></th>\n",
       "      <th></th>\n",
       "      <th></th>\n",
       "      <th></th>\n",
       "      <th></th>\n",
       "    </tr>\n",
       "  </thead>\n",
       "  <tbody>\n",
       "    <tr>\n",
       "      <th>0</th>\n",
       "      <td>MLB Cincinnati Reds T Shirt Size XL</td>\n",
       "      <td>3</td>\n",
       "      <td>Men/Tops/T-shirts</td>\n",
       "      <td>NaN</td>\n",
       "      <td>10.0</td>\n",
       "      <td>1</td>\n",
       "      <td>No description yet</td>\n",
       "      <td>2.397895</td>\n",
       "    </tr>\n",
       "    <tr>\n",
       "      <th>1</th>\n",
       "      <td>Razer BlackWidow Chroma Keyboard</td>\n",
       "      <td>3</td>\n",
       "      <td>Electronics/Computers &amp; Tablets/Components &amp; P...</td>\n",
       "      <td>Razer</td>\n",
       "      <td>52.0</td>\n",
       "      <td>0</td>\n",
       "      <td>This keyboard is in great condition and works ...</td>\n",
       "      <td>3.970292</td>\n",
       "    </tr>\n",
       "    <tr>\n",
       "      <th>2</th>\n",
       "      <td>AVA-VIV Blouse</td>\n",
       "      <td>1</td>\n",
       "      <td>Women/Tops &amp; Blouses/Blouse</td>\n",
       "      <td>Target</td>\n",
       "      <td>10.0</td>\n",
       "      <td>1</td>\n",
       "      <td>Adorable top with a hint of lace and a key hol...</td>\n",
       "      <td>2.397895</td>\n",
       "    </tr>\n",
       "    <tr>\n",
       "      <th>3</th>\n",
       "      <td>Leather Horse Statues</td>\n",
       "      <td>1</td>\n",
       "      <td>Home/Home Décor/Home Décor Accents</td>\n",
       "      <td>NaN</td>\n",
       "      <td>35.0</td>\n",
       "      <td>1</td>\n",
       "      <td>New with tags. Leather horses. Retail for [rm]...</td>\n",
       "      <td>3.583519</td>\n",
       "    </tr>\n",
       "    <tr>\n",
       "      <th>4</th>\n",
       "      <td>24K GOLD plated rose</td>\n",
       "      <td>1</td>\n",
       "      <td>Women/Jewelry/Necklaces</td>\n",
       "      <td>NaN</td>\n",
       "      <td>44.0</td>\n",
       "      <td>0</td>\n",
       "      <td>Complete with certificate of authenticity</td>\n",
       "      <td>3.806662</td>\n",
       "    </tr>\n",
       "  </tbody>\n",
       "</table>\n",
       "</div>"
      ],
      "text/plain": [
       "                                         name  item_condition_id  \\\n",
       "train_id                                                           \n",
       "0         MLB Cincinnati Reds T Shirt Size XL                  3   \n",
       "1            Razer BlackWidow Chroma Keyboard                  3   \n",
       "2                              AVA-VIV Blouse                  1   \n",
       "3                       Leather Horse Statues                  1   \n",
       "4                        24K GOLD plated rose                  1   \n",
       "\n",
       "                                              category_name brand_name  price  \\\n",
       "train_id                                                                        \n",
       "0                                         Men/Tops/T-shirts        NaN   10.0   \n",
       "1         Electronics/Computers & Tablets/Components & P...      Razer   52.0   \n",
       "2                               Women/Tops & Blouses/Blouse     Target   10.0   \n",
       "3                        Home/Home Décor/Home Décor Accents        NaN   35.0   \n",
       "4                                   Women/Jewelry/Necklaces        NaN   44.0   \n",
       "\n",
       "          shipping                                   item_description  \\\n",
       "train_id                                                                \n",
       "0                1                                 No description yet   \n",
       "1                0  This keyboard is in great condition and works ...   \n",
       "2                1  Adorable top with a hint of lace and a key hol...   \n",
       "3                1  New with tags. Leather horses. Retail for [rm]...   \n",
       "4                0          Complete with certificate of authenticity   \n",
       "\n",
       "          log_price  \n",
       "train_id             \n",
       "0          2.397895  \n",
       "1          3.970292  \n",
       "2          2.397895  \n",
       "3          3.583519  \n",
       "4          3.806662  "
      ]
     },
     "execution_count": 6,
     "metadata": {},
     "output_type": "execute_result"
    }
   ],
   "source": [
    "#THIS CELL CREATES NEW COLOMN WITH LOG(PRICE+1)\n",
    "df[\"log_price\"] = df.price.apply(lambda x:np.log(x+1))\n",
    "df.head()"
   ]
  },
  {
   "cell_type": "markdown",
   "id": "dfaaaf7b",
   "metadata": {},
   "source": [
    "### 'name'"
   ]
  },
  {
   "cell_type": "markdown",
   "id": "29fb52ab",
   "metadata": {},
   "source": [
    "For text features, there are many techniques that are used for data preprocessing. Here we have done very simply preprocessing which is decontraction, removing special characters, stopword removal, and lowering the text."
   ]
  },
  {
   "cell_type": "code",
   "execution_count": 7,
   "id": "d10f52af",
   "metadata": {},
   "outputs": [],
   "source": [
    "#THIS CELL PREPROCESSES THE NAME FEATURE\n",
    "\n",
    "def decontracted(phrase):\n",
    "    # specific\n",
    "    phrase = re.sub(r\"won\\'t\", \"will not\", phrase)\n",
    "    phrase = re.sub(r\"can\\'t\", \"can not\", phrase)\n",
    "\n",
    "    # general\n",
    "    phrase = re.sub(r\"n\\'t\", \" not\", phrase)\n",
    "    phrase = re.sub(r\"\\'re\", \" are\", phrase)\n",
    "    phrase = re.sub(r\"\\'s\", \" is\", phrase)\n",
    "    phrase = re.sub(r\"\\'d\", \" would\", phrase)\n",
    "    phrase = re.sub(r\"\\'ll\", \" will\", phrase)\n",
    "    phrase = re.sub(r\"\\'t\", \" not\", phrase)\n",
    "    phrase = re.sub(r\"\\'ve\", \" have\", phrase)\n",
    "    phrase = re.sub(r\"\\'m\", \" am\", phrase)\n",
    "    return phrase\n",
    "\n",
    "st_words = stopwords.words('english')\n",
    "\n",
    "def name_process(text):\n",
    "    #THIS FUNCTION IS USED TO PREPROCESS THE NAME FEATURE\n",
    "    text = decontracted(text)\n",
    "    text = re.sub(\"[^A-Za-z0-9 ]\",\"\",text) # REMOVE EVERYTHING EXCEPT THE PROVIDED CHARACTERS\n",
    "    text = text.lower() # CONVERT TO LOWER CASE\n",
    "    text =  \" \".join([i for i in text.split() if i not in st_words])\n",
    "    if len(text)==0:\n",
    "        text = \"missing\"\n",
    "    return text # RETURN THE OUTPUT TEXT"
   ]
  },
  {
   "cell_type": "code",
   "execution_count": 8,
   "id": "5eaeb221",
   "metadata": {},
   "outputs": [],
   "source": [
    "# APPLYING THE \"preprocessing\" FUNCTION ON THE FEAUTRE \"name\"\n",
    "df[\"name_processed\"] = df.name.apply(name_process)\n",
    "df[df.name_processed.isnull()].name_processed =\"missing\" \n",
    "\n",
    "# APPLYING THE \"preprocessing\" FUNCTION ON THE FEAUTRE \"name\" on test data\n",
    "df_test[\"name_processed\"] = df_test.name.apply(name_process)\n",
    "df_test[df_test.name_processed.isnull()].name_processed =\"missing\" "
   ]
  },
  {
   "cell_type": "markdown",
   "id": "bd6c66f5",
   "metadata": {},
   "source": [
    "### brand_name"
   ]
  },
  {
   "cell_type": "code",
   "execution_count": 9,
   "id": "bde22fb3",
   "metadata": {
    "scrolled": true
   },
   "outputs": [],
   "source": [
    "#CREATING PREPROCESSING FUNCTION FOR BRAND NAME\n",
    "def brand_process(text):\n",
    "    text = re.sub(\"[^A-Za-z0-9 ]\",\"\",text)# REMOVE EVERYTHING EXCEPT THE PROVIDED CHARACTERS\n",
    "    text = text.lower()  # CONVERT TO LOWER CASE\n",
    "    return text"
   ]
  },
  {
   "cell_type": "code",
   "execution_count": 10,
   "id": "d1fadb66",
   "metadata": {},
   "outputs": [
    {
     "name": "stderr",
     "output_type": "stream",
     "text": [
      "1482535it [04:44, 5210.72it/s] \n"
     ]
    }
   ],
   "source": [
    "# here we are assigning score correrponding to each brand_name\n",
    "# the easiest way is to assign the score equals to number of occurences for that brand and store in the form of dict.\n",
    "brand_score = dict(df[df.brand_name.notnull()][\"brand_name\"].apply(brand_process).value_counts())\n",
    "\n",
    "processed_brand_name = [] #storing the barand name after preprocessing\n",
    "for index,i in tqdm(df.iterrows()) : # for each row in the dataset\n",
    "    \n",
    "    if  pd.isnull(i.brand_name): #if the brand name isnull we follow this\n",
    "        \n",
    "        words = i.name_processed.split() # we will split the name for that datapoint\n",
    "        score  = [] # this variable stores the score for each word that we calculated above\n",
    "        for j in words: # for each word \n",
    "            if j in brand_score.keys(): #if the words in name is present in the keys of brand score dict\n",
    "                score.append(brand_score[j]) # take the score from the dict and append in the score variable\n",
    "            else: #if the word is not a brand name append -1\n",
    "                score.append(-1)\n",
    "        # once we get the scores for all the words in the name the word with maximum score woulb be the brand name\n",
    "        if max(score) > 0: #if the maximum score is greater than 0 then it contains a brand name so we append the brand name\n",
    "            processed_brand_name.append(words[score.index(max(score))])\n",
    "        else: # if maximum value is less than 0 then it means no brand name was found so \"missing\" is appended\n",
    "            processed_brand_name.append(\"missing\")\n",
    "            \n",
    "    else: # if the brand_name is not null we follow this\n",
    "        processed_brand_name.append(brand_process(i.brand_name))"
   ]
  },
  {
   "cell_type": "code",
   "execution_count": 11,
   "id": "1ee66787",
   "metadata": {},
   "outputs": [],
   "source": [
    "#CREATING NEW COLUMN WITH PROCESSED BRAND NAMES\n",
    "df[\"brand_name_processed\"] = processed_brand_name"
   ]
  },
  {
   "cell_type": "code",
   "execution_count": 12,
   "id": "26ba1cee",
   "metadata": {},
   "outputs": [
    {
     "name": "stderr",
     "output_type": "stream",
     "text": [
      "693359it [02:27, 4702.71it/s]\n"
     ]
    }
   ],
   "source": [
    "#APPLYING PROCESSING TO TEST DATASET BRAND NAME\n",
    "processed_brand_name_test = []\n",
    "for index,i in tqdm(df_test.iterrows()) :\n",
    "    \n",
    "    if  pd.isnull(i.brand_name):\n",
    "        \n",
    "        words = i.name_processed.split()\n",
    "        score  = []\n",
    "        for j in words:\n",
    "            if j in brand_score.keys():\n",
    "                score.append(brand_score[j])\n",
    "            else:\n",
    "                score.append(-1)\n",
    "        \n",
    "        if max(score) > 0:\n",
    "            processed_brand_name_test.append(words[score.index(max(score))])\n",
    "        else:\n",
    "            processed_brand_name_test.append(\"missing\")\n",
    "    else:\n",
    "        processed_brand_name_test.append(brand_process(i.brand_name))"
   ]
  },
  {
   "cell_type": "code",
   "execution_count": 13,
   "id": "0ed2251f",
   "metadata": {},
   "outputs": [],
   "source": [
    "#CREATING NEW COLUMN WITH PROCESSED BRAND NAMES\n",
    "df_test[\"brand_name_processed\"] = processed_brand_name_test"
   ]
  },
  {
   "cell_type": "markdown",
   "id": "52f4fc30",
   "metadata": {},
   "source": [
    "### category_name"
   ]
  },
  {
   "cell_type": "code",
   "execution_count": 14,
   "id": "54983380",
   "metadata": {},
   "outputs": [],
   "source": [
    "# PREPROCESS THE  \"category_name\" \n",
    "\n",
    "def category_name_preprocessing(text):\n",
    "    #THIS FUNCTION PREPROCESSES THE TEXT IN \"category_name\" FEATURE\n",
    "    text = re.sub(\"[^A-Za-z0-9/ ]\",\"\",text)# REMOVING ALL THE TEXT EXCEPT THE GIVEN CHARACTERS\n",
    "    text = re.sub(\"s \",\" \",text) # REMOVING  \"s\" AT THE END OF THE WORD\n",
    "    text = re.sub(\"s/\",\"/\",text) # REMOVING  \"s\" AT THE END OF THE WORD\n",
    "    text = re.sub(\"  \",\" \",text) # REMOVING ONE SPACE WHERE TWO SPACES ARE PRESENT\n",
    "    text = text.lower() # CONVERTING THE TEXT TO LOWER CASE\n",
    "    return text # RETURNING THE PROCESSED TEXT"
   ]
  },
  {
   "cell_type": "code",
   "execution_count": 15,
   "id": "9e2f8602",
   "metadata": {},
   "outputs": [],
   "source": [
    "#THIS CELL REPLACE THE NULL VALUES WITH WORD \"missing\" AND PREPROCESSES THE category_name FEATURE\n",
    "\n",
    "# HERE WE ARE REPLACING THE NULL VALUES IN \"category_name\" WITH WORD \"missing\"\n",
    "df.category_name[df.category_name.isnull()] = \"missing\"\n",
    "# HERE WE ARE PREPROCESSING THE TEXT IN \"category_name\"\n",
    "df[\"category_name_preprocessed\"] = df.category_name.apply(category_name_preprocessing)"
   ]
  },
  {
   "cell_type": "code",
   "execution_count": 16,
   "id": "91d169c7",
   "metadata": {},
   "outputs": [],
   "source": [
    "# PREPROCESSING ON TEST DATA\n",
    "df_test.category_name[df_test.category_name.isnull()] = \"missing\"\n",
    "df_test[\"category_name_preprocessed\"] = df_test.category_name.apply(category_name_preprocessing)"
   ]
  },
  {
   "cell_type": "markdown",
   "id": "1fdbbe17",
   "metadata": {},
   "source": [
    "## Division of category_name\n",
    "### 'Tier_1'\n"
   ]
  },
  {
   "cell_type": "code",
   "execution_count": 17,
   "id": "ccff5ef9",
   "metadata": {},
   "outputs": [],
   "source": [
    "#THIS CELL SPLITS THE TOTAL CATEGORY NAME WITH \"/\" AND WHERE NULL IS PRESENT \"missing\" IS USED\n",
    "\n",
    "# FORMING A COLUMN \"Tier_1\"\n",
    "df[\"Tier_1\"] = df.category_name_preprocessed.apply(lambda x:   x.split(\"/\")[0] if len(x.split(\"/\"))>=1 else \"missing\")\n",
    "\n",
    "# PREPROCESSING ON TEST DATA\n",
    "df_test[\"Tier_1\"] = df_test.category_name_preprocessed.apply(lambda x:   x.split(\"/\")[0] if len(x.split(\"/\"))>=1 else \"missing\")\n"
   ]
  },
  {
   "cell_type": "markdown",
   "id": "c8570dbb",
   "metadata": {},
   "source": [
    "### 'Tier_2'"
   ]
  },
  {
   "cell_type": "code",
   "execution_count": 18,
   "id": "5762e47c",
   "metadata": {},
   "outputs": [],
   "source": [
    "# FORMING A COLUMN \"Tier_2\"\n",
    "df[\"Tier_2\"] = df.category_name_preprocessed.apply(lambda x:   x.split(\"/\")[1] if len(x.split(\"/\"))>1 else \"missing\")\n",
    "# PREPROCESSING ON TEST DATA\n",
    "df_test[\"Tier_2\"] = df_test.category_name_preprocessed.apply(lambda x:   x.split(\"/\")[1] if len(x.split(\"/\"))>1 else \"missing\")"
   ]
  },
  {
   "cell_type": "markdown",
   "id": "5bd1e5ee",
   "metadata": {},
   "source": [
    "### 'Tier_3'"
   ]
  },
  {
   "cell_type": "code",
   "execution_count": 19,
   "id": "ed8ccc29",
   "metadata": {},
   "outputs": [],
   "source": [
    "# FORMING A COLUMN \"Tier_3\"\n",
    "df[\"Tier_3\"] = df.category_name_preprocessed.apply(lambda x:   x.split(\"/\")[2] if len(x.split(\"/\"))>1 else \"missing\")\n",
    "# PREPROCESSING ON TEST DATA\n",
    "df_test[\"Tier_3\"] = df_test.category_name_preprocessed.apply(lambda x:   x.split(\"/\")[2] if len(x.split(\"/\"))>1 else \"missing\")"
   ]
  },
  {
   "cell_type": "markdown",
   "id": "738faa71",
   "metadata": {},
   "source": [
    "## 'item_description'"
   ]
  },
  {
   "cell_type": "code",
   "execution_count": 20,
   "id": "8551bc6e",
   "metadata": {},
   "outputs": [],
   "source": [
    "#PREPROCESSING FUNCTION FOR ITEM DESCRIPTION\n",
    "def processing_item_description(text):\n",
    "    '''THIS FUNCTION PREPROCESSES THE TEXT IN \"item_description\"'''\n",
    "    text = re.sub(\"\\[rm\\] \",\"\",str(text))\n",
    "    text = decontracted(text)\n",
    "    text = re.sub(\"[^A-Za-z0-9 ]\",\"\",str(text))\n",
    "    text = str(text).lower()\n",
    "    text =  \" \".join([i for i in text.split() if i not in st_words])\n",
    "    if len(text)==0:\n",
    "        text = \"missing\"\n",
    "    return text"
   ]
  },
  {
   "cell_type": "code",
   "execution_count": 21,
   "id": "91fe68e9",
   "metadata": {},
   "outputs": [],
   "source": [
    "#REPLACING THE NULL VALUVE WITH WORD \"missing\"\n",
    "df.item_description[df.item_description.isnull()]=\"missing\"\n",
    "\n",
    "#HERE WE ARE PREPROCESSING THE TEXT IN FEATURE \"item_description\" '''\n",
    "df[\"processed_item_description\"] = df.item_description.apply(processing_item_description)"
   ]
  },
  {
   "cell_type": "code",
   "execution_count": 22,
   "id": "5e792a94",
   "metadata": {},
   "outputs": [],
   "source": [
    "# PREPROCESSING FOR TEST DATA\n",
    "df_test.item_description[df_test.item_description.isnull()]=\"missing\"\n",
    "df_test[\"processed_item_description\"] = df_test.item_description.apply(processing_item_description)"
   ]
  },
  {
   "cell_type": "markdown",
   "id": "b0654fbd",
   "metadata": {},
   "source": [
    "### PREPROCESSING FOR WORD CLOUD"
   ]
  },
  {
   "cell_type": "code",
   "execution_count": 30,
   "id": "175b5755",
   "metadata": {},
   "outputs": [
    {
     "name": "stderr",
     "output_type": "stream",
     "text": [
      "1482535it [06:43, 3674.46it/s]\n"
     ]
    }
   ],
   "source": [
    "#THIS CELL JOINS ALL THE NAMES OF SPECIFIC ITEM CONDITON TOGETHER\n",
    "# PLACEHOLDERS\n",
    "id_1=\"\"\n",
    "id_2=\"\"\n",
    "id_3=\"\"\n",
    "id_4=\"\"\n",
    "id_5=\"\"\n",
    "# FOR EACH ROW IN DATASET\n",
    "for index ,i in tqdm(df[[\"name_processed\",\"item_condition_id\"]].iterrows()):\n",
    "    # JOIN THE STRIG TO SPECIFIC ITEM CONDITION ID\n",
    "    if i.item_condition_id==1:\n",
    "        id_1+= i.name_processed\n",
    "    if i.item_condition_id==2:\n",
    "        id_2+= i.name_processed\n",
    "    if i.item_condition_id==3:\n",
    "        id_3+= i.name_processed\n",
    "    if i.item_condition_id==4:\n",
    "        id_4+= i.name_processed\n",
    "    if i.item_condition_id==5:\n",
    "        id_5+= i.name_processed\n",
    "    "
   ]
  },
  {
   "cell_type": "code",
   "execution_count": 31,
   "id": "63042b50",
   "metadata": {},
   "outputs": [],
   "source": [
    "# STORING THE STOPWORDS IN A VARIABLE\n",
    "stopword = stopwords.words('english')\n",
    "\n",
    "#FORMING WORDCLOUDS\n",
    "wordcloud1 = WordCloud(width = 800, height = 800,\n",
    "                background_color ='black',\n",
    "                stopwords = stopword,\n",
    "                min_font_size = 10).generate(id_1)\n",
    "wordcloud2 = WordCloud(width = 800, height = 800,\n",
    "                background_color ='black',\n",
    "                stopwords = stopword,\n",
    "                min_font_size = 10).generate(id_2)\n",
    "wordcloud3 = WordCloud(width = 800, height = 800,\n",
    "                background_color ='black',\n",
    "                stopwords = stopword,\n",
    "                min_font_size = 10).generate(id_3)\n",
    "wordcloud4 = WordCloud(width = 800, height = 800,\n",
    "                background_color ='black',\n",
    "                stopwords = stopword,\n",
    "                min_font_size = 10).generate(id_4)\n",
    "wordcloud5 = WordCloud(width = 800, height = 800,\n",
    "                background_color ='black',\n",
    "                stopwords = stopword,\n",
    "                min_font_size = 10).generate(id_5)"
   ]
  },
  {
   "cell_type": "markdown",
   "id": "26ec533f",
   "metadata": {},
   "source": [
    "### 10. item_description"
   ]
  },
  {
   "cell_type": "markdown",
   "id": "0969680a",
   "metadata": {},
   "source": [
    "### World cloud Analysis For Item Description "
   ]
  },
  {
   "cell_type": "code",
   "execution_count": 33,
   "id": "daa147c0",
   "metadata": {
    "scrolled": true
   },
   "outputs": [
    {
     "name": "stderr",
     "output_type": "stream",
     "text": [
      "1482535it [19:58, 1236.90it/s]\n"
     ]
    }
   ],
   "source": [
    "#JOINS ALL THE ITEM DESCRIPTION OF SPECIFIC ITEM CONDITON TOGETHER\n",
    "\n",
    "# PLACEHOLDER \n",
    "id_1_desc=\"\"\n",
    "id_2_desc=\"\"\n",
    "id_3_desc=\"\"\n",
    "id_4_desc=\"\"\n",
    "id_5_desc=\"\"\n",
    "# FOR EACH POINTS IN THE DATASET\n",
    "for index ,i in tqdm(df[[\"processed_item_description\",\"item_condition_id\"]].iterrows()):\n",
    "    # JOINGING THE SRTING BASED ON ITEM CONDITON ID\n",
    "    if i.item_condition_id==1:\n",
    "        id_1_desc += i.processed_item_description\n",
    "    if i.item_condition_id==2:\n",
    "        id_2_desc  += i.processed_item_description\n",
    "    if i.item_condition_id==3:\n",
    "        id_3_desc  += i.processed_item_description\n",
    "    if i.item_condition_id==4:\n",
    "        id_4_desc  += i.processed_item_description\n",
    "    if i.item_condition_id==5:\n",
    "        id_5_desc  += i.processed_item_description\n",
    "    "
   ]
  },
  {
   "cell_type": "code",
   "execution_count": 35,
   "id": "b88ca898",
   "metadata": {},
   "outputs": [],
   "source": [
    "#FORMING THE WORD CLOUDS\n",
    "\n",
    "wordcloud1_desc = WordCloud(width = 800, height = 800,\n",
    "                background_color ='black',\n",
    "                stopwords = stopword,\n",
    "                min_font_size = 10).generate(id_1_desc)\n",
    "wordcloud2_desc = WordCloud(width = 800, height = 800,\n",
    "                background_color ='black',\n",
    "                stopwords = stopword,\n",
    "                min_font_size = 10).generate(id_2_desc)\n",
    "wordcloud3_desc = WordCloud(width = 800, height = 800,\n",
    "                background_color ='black',\n",
    "                stopwords = stopword,\n",
    "                min_font_size = 10).generate(id_3_desc)\n",
    "wordcloud4_desc = WordCloud(width = 800, height = 800,\n",
    "                background_color ='black',\n",
    "                stopwords = stopword,\n",
    "                min_font_size = 10).generate(id_4_desc)\n",
    "wordcloud5_desc = WordCloud(width = 800, height = 800,\n",
    "                background_color ='black',\n",
    "                stopwords = stopword,\n",
    "                min_font_size = 10).generate(id_5_desc)"
   ]
  },
  {
   "cell_type": "markdown",
   "id": "a55cd12a",
   "metadata": {},
   "source": [
    "# Splitting"
   ]
  },
  {
   "cell_type": "code",
   "execution_count": 23,
   "id": "4db5b01c",
   "metadata": {},
   "outputs": [],
   "source": [
    "df_train,df_val = train_test_split(df,test_size=0.1,random_state = 3) "
   ]
  },
  {
   "cell_type": "code",
   "execution_count": 24,
   "id": "e617c9fc",
   "metadata": {},
   "outputs": [
    {
     "name": "stdout",
     "output_type": "stream",
     "text": [
      "size of df_train :  (1334281, 15)\n",
      "size of df_val : (148254, 15)\n",
      "size of df_test : (693359, 13)\n"
     ]
    }
   ],
   "source": [
    "print(\"size of df_train : \",df_train.shape)\n",
    "print(\"size of df_val :\",df_val.shape)\n",
    "print(\"size of df_test :\",df_test.shape)"
   ]
  },
  {
   "cell_type": "markdown",
   "id": "3447cfa6",
   "metadata": {},
   "source": [
    "### Value of Target variables"
   ]
  },
  {
   "cell_type": "code",
   "execution_count": 25,
   "id": "c7267e4e",
   "metadata": {},
   "outputs": [],
   "source": [
    "y_train = df_train.log_price\n",
    "y_val = df_val.log_price"
   ]
  },
  {
   "cell_type": "markdown",
   "id": "0b518ad5",
   "metadata": {},
   "source": [
    "#### For all the Categorical Data which includes shipping, item condition id, Tier1, Tier2, Tier3 are One hot Encoded"
   ]
  },
  {
   "cell_type": "markdown",
   "id": "25a4d048",
   "metadata": {},
   "source": [
    "### 1.  item_condition_id"
   ]
  },
  {
   "cell_type": "code",
   "execution_count": 26,
   "id": "c6ab0d9d",
   "metadata": {},
   "outputs": [
    {
     "name": "stdout",
     "output_type": "stream",
     "text": [
      "(1334281, 5)\n",
      "(148254, 5)\n",
      "(693359, 5)\n"
     ]
    }
   ],
   "source": [
    "#ITEM CONDITION ID ONE HOT ENDODING\n",
    "train_vec_item_con = pd.get_dummies(df_train.item_condition_id).values\n",
    "val_vec_item_con = pd.get_dummies(df_val.item_condition_id).values\n",
    "test_vec_item_con = pd.get_dummies(df_test.item_condition_id).values\n",
    "\n",
    "print(train_vec_item_con.shape)\n",
    "print(val_vec_item_con.shape)\n",
    "print(test_vec_item_con.shape)"
   ]
  },
  {
   "cell_type": "markdown",
   "id": "e78f6858",
   "metadata": {},
   "source": [
    "### 2.  shipping"
   ]
  },
  {
   "cell_type": "code",
   "execution_count": 27,
   "id": "c50f6a74",
   "metadata": {},
   "outputs": [
    {
     "name": "stdout",
     "output_type": "stream",
     "text": [
      "(1334281, 2)\n",
      "(148254, 2)\n",
      "(693359, 2)\n"
     ]
    }
   ],
   "source": [
    "#SHIPPING ONE HOT ENCODING\n",
    "train_vec_shipping = pd.get_dummies(df_train.shipping).values\n",
    "val_vec_shipping = pd.get_dummies(df_val.shipping).values\n",
    "test_vec_shipping = pd.get_dummies(df_test.shipping).values\n",
    "\n",
    "\n",
    "print(train_vec_shipping.shape)\n",
    "print(val_vec_shipping.shape)\n",
    "print(test_vec_shipping.shape)"
   ]
  },
  {
   "cell_type": "markdown",
   "id": "44d4624e",
   "metadata": {},
   "source": [
    "### 3.  brand_name"
   ]
  },
  {
   "cell_type": "code",
   "execution_count": 28,
   "id": "2fd2da1e",
   "metadata": {},
   "outputs": [
    {
     "name": "stdout",
     "output_type": "stream",
     "text": [
      "(1334281, 4702)\n",
      "(148254, 4702)\n",
      "(693359, 4702)\n"
     ]
    }
   ],
   "source": [
    "#BRAND NAME ONE HOT ENCODING\n",
    "label_brand = OneHotEncoder(handle_unknown=\"ignore\")\n",
    "label_brand.fit(df_train.brand_name_processed.values.reshape(-1,1))\n",
    "\n",
    "train_vec_brand =label_brand.transform(df_train.brand_name_processed.values.reshape(-1,1))\n",
    "val_vec_brand = label_brand.transform(df_val.brand_name_processed.values.reshape(-1,1))\n",
    "test_vec_brand = label_brand.transform(df_test.brand_name_processed.values.reshape(-1,1))\n",
    "\n",
    "print(train_vec_brand.shape)\n",
    "print(val_vec_brand.shape)\n",
    "print(test_vec_brand.shape)"
   ]
  },
  {
   "cell_type": "markdown",
   "id": "11373eb3",
   "metadata": {},
   "source": [
    "### 4.  Tier_1"
   ]
  },
  {
   "cell_type": "code",
   "execution_count": 29,
   "id": "12ac3c84",
   "metadata": {},
   "outputs": [
    {
     "name": "stdout",
     "output_type": "stream",
     "text": [
      "(1334281, 11)\n",
      "(148254, 11)\n",
      "(693359, 11)\n"
     ]
    }
   ],
   "source": [
    "#TIER 1 ONE HOT ENCODING\n",
    "label_t1 = OneHotEncoder(handle_unknown='ignore')\n",
    "label_t1.fit(df_train.Tier_1.values.reshape(-1,1))\n",
    "\n",
    "train_vec_t1 = label_t1.transform(df_train.Tier_1.values.reshape(-1,1))\n",
    "val_vec_t1 =   label_t1.transform(df_val.Tier_1.values.reshape(-1,1))\n",
    "test_vec_t1 =   label_t1.transform(df_test.Tier_1.values.reshape(-1,1))\n",
    "\n",
    "\n",
    "print(train_vec_t1.shape)\n",
    "print(val_vec_t1.shape)\n",
    "print(test_vec_t1.shape)"
   ]
  },
  {
   "cell_type": "markdown",
   "id": "d24116bf",
   "metadata": {},
   "source": [
    "### 5.  Tier_2"
   ]
  },
  {
   "cell_type": "code",
   "execution_count": 30,
   "id": "7a977d42",
   "metadata": {},
   "outputs": [
    {
     "name": "stdout",
     "output_type": "stream",
     "text": [
      "(1334281, 111)\n",
      "(148254, 111)\n",
      "(693359, 111)\n"
     ]
    }
   ],
   "source": [
    "#TIER 2 ONE HOT ENCODING\n",
    "\n",
    "label_t2 = OneHotEncoder(handle_unknown='ignore')\n",
    "label_t2.fit(df_train.Tier_2.values.reshape(-1,1))\n",
    "\n",
    "train_vec_t2 =label_t2.transform(df_train.Tier_2.values.reshape(-1,1))\n",
    "val_vec_t2 = label_t2.transform(df_val.Tier_2.values.reshape(-1,1))\n",
    "test_vec_t2 = label_t2.transform(df_test.Tier_2.values.reshape(-1,1))\n",
    "\n",
    "print(train_vec_t2.shape)\n",
    "print(val_vec_t2.shape)\n",
    "print(test_vec_t2.shape)"
   ]
  },
  {
   "cell_type": "markdown",
   "id": "dc4e5b44",
   "metadata": {},
   "source": [
    "### 6. Tier_3"
   ]
  },
  {
   "cell_type": "code",
   "execution_count": 31,
   "id": "3fbf2e6a",
   "metadata": {},
   "outputs": [
    {
     "name": "stdout",
     "output_type": "stream",
     "text": [
      "(1334281, 863)\n",
      "(1334281, 863)\n",
      "(693359, 863)\n"
     ]
    }
   ],
   "source": [
    "#TIER 3 ONE HOT ENDODING\n",
    "\n",
    "label_t3 = OneHotEncoder(handle_unknown='ignore')\n",
    "label_t3.fit(df_train.Tier_3.values.reshape(-1,1))\n",
    "\n",
    "train_vec_t3 =label_t3.transform(df_train.Tier_3.values.reshape(-1,1))\n",
    "val_vec_t3 = label_t3.transform(df_val.Tier_3.values.reshape(-1,1))\n",
    "test_vec_t3 = label_t3.transform(df_test.Tier_3.values.reshape(-1,1))\n",
    "\n",
    "print(train_vec_t3.shape)\n",
    "print(train_vec_t3.shape)\n",
    "print(test_vec_t3.shape)"
   ]
  },
  {
   "cell_type": "markdown",
   "id": "8aee4075",
   "metadata": {},
   "source": [
    "## Text Data - Tfidf\n",
    "\\\n",
    "Tfidf states “Term Frequency -Inverse Document Frequency”. It has two parts first part is “Term Frequency” which is a simple ratio of a word to the total number of words in the sentence which gives more value to more occurring words in a sentence. “Inverse Document Frequency” is the second part which is the ratio of total documents and the number of documents in which the wors occurs. IDF gives higher value to the rarer words in the documents. \n",
    "### 7. name_processed"
   ]
  },
  {
   "cell_type": "code",
   "execution_count": 33,
   "id": "6473f47d",
   "metadata": {},
   "outputs": [
    {
     "name": "stdout",
     "output_type": "stream",
     "text": [
      "(1334281, 50000)\n",
      "(148254, 50000)\n",
      "(693359, 50000)\n"
     ]
    }
   ],
   "source": [
    "#PROCESSED NAME TFIDF VECTORIZER\n",
    "\n",
    "tfidf = TfidfVectorizer(ngram_range=(1,2),max_features=50000)\n",
    "tfidf.fit(df_train.name_processed)\n",
    "\n",
    "train_vec_name = tfidf.transform(df_train.name_processed)\n",
    "val_vec_name = tfidf.transform(df_val.name_processed)\n",
    "test_vec_name = tfidf.transform(df_test.name_processed)\n",
    "\n",
    "\n",
    "print(train_vec_name.shape)\n",
    "print(val_vec_name.shape)\n",
    "print(test_vec_name.shape)"
   ]
  },
  {
   "cell_type": "markdown",
   "id": "42f850e0",
   "metadata": {},
   "source": [
    "### 8. processed_item_description"
   ]
  },
  {
   "cell_type": "code",
   "execution_count": 34,
   "id": "0d00245a",
   "metadata": {},
   "outputs": [
    {
     "name": "stdout",
     "output_type": "stream",
     "text": [
      "(1334281, 50000)\n",
      "(148254, 50000)\n",
      "(693359, 50000)\n"
     ]
    }
   ],
   "source": [
    "# PROCESSED ITEM DESCRIPTION TFIDF VECTORIZATION\n",
    "\n",
    "tfidf_desc = TfidfVectorizer(max_features=50000,ngram_range=(1, 2))\n",
    "tfidf_desc.fit(df_train.processed_item_description)\n",
    "\n",
    "train_vec_desc = tfidf_desc.transform(df_train.processed_item_description)\n",
    "val_vec_desc   = tfidf_desc.transform(df_val.processed_item_description)\n",
    "test_vec_desc   = tfidf_desc.transform(df_test.processed_item_description) \n",
    "\n",
    "print(train_vec_desc.shape)\n",
    "print(val_vec_desc.shape)\n",
    "print(test_vec_desc.shape)"
   ]
  },
  {
   "cell_type": "markdown",
   "id": "51d5b2f2",
   "metadata": {},
   "source": [
    "### 9. is_missing\n",
    "This feature gives 1 if a value is missing in brand name or name or item description otherwise it is 0."
   ]
  },
  {
   "cell_type": "code",
   "execution_count": 35,
   "id": "0e4e32af",
   "metadata": {},
   "outputs": [],
   "source": [
    "#IS MISSIN FEATURE FOR TRAIN DATASET\n",
    "\n",
    "df_train[\"is_missing\"]  =  (df_train.brand_name_processed==\"missing\") | (df_train.name_processed ==\"missing\")| (df_train.processed_item_description==\"missing\")\n",
    "df_train[\"is_missing\"]  = df_train[\"is_missing\"].astype(int)"
   ]
  },
  {
   "cell_type": "code",
   "execution_count": 36,
   "id": "f1792511",
   "metadata": {},
   "outputs": [],
   "source": [
    "#IS MISSING FEATURE FOR VALIDATION DATASET\n",
    "\n",
    "df_val[\"is_missing\"]  =  (df_val.brand_name_processed==\"missing\") | (df_val.name_processed ==\"missing\")| (df_val.processed_item_description==\"missing\")\n",
    "df_val[\"is_missing\"]  = df_val[\"is_missing\"].astype(int)"
   ]
  },
  {
   "cell_type": "code",
   "execution_count": 37,
   "id": "63d2e236",
   "metadata": {},
   "outputs": [],
   "source": [
    "#IS MISSING FEATURE FOR TEST DATASET\n",
    "\n",
    "df_test[\"is_missing\"]  =  (df_test.brand_name_processed==\"missing\") | (df_test.name_processed ==\"missing\")| (df_test.processed_item_description==\"missing\")\n",
    "df_test[\"is_missing\"]  = df_test[\"is_missing\"].astype(int)"
   ]
  },
  {
   "cell_type": "markdown",
   "id": "8fc4d6b2",
   "metadata": {},
   "source": [
    "## Concatenating"
   ]
  },
  {
   "cell_type": "code",
   "execution_count": 38,
   "id": "cee9819e",
   "metadata": {},
   "outputs": [
    {
     "name": "stdout",
     "output_type": "stream",
     "text": [
      "(1334281, 105695)\n",
      "(148254, 105695)\n",
      "(693359, 105695)\n"
     ]
    }
   ],
   "source": [
    "#STACKING ALL THE FEATURES\n",
    "\n",
    "\n",
    "# STACKING TRAIN FEATURES\n",
    "x_train = hstack((train_vec_item_con,train_vec_shipping,\n",
    "                  train_vec_name,train_vec_brand,train_vec_t1,\n",
    "                   train_vec_t2,\n",
    "                    train_vec_t3,\n",
    "                  df_train.is_missing.values.reshape(-1,1)\n",
    "                   ,train_vec_desc))\n",
    "\n",
    "\n",
    "# STACKING VALIDATION FEATURES\n",
    "x_val = hstack((val_vec_item_con,val_vec_shipping\n",
    "                ,val_vec_name ,val_vec_brand ,val_vec_t1 ,\\\n",
    "                  val_vec_t2 ,val_vec_t3 ,\n",
    "                df_val.is_missing.values.reshape(-1,1)\n",
    "                ,val_vec_desc))\n",
    "\n",
    "# STACKING TEST FEATURES\n",
    "x_test = hstack((test_vec_item_con,test_vec_shipping\n",
    "                ,test_vec_name ,test_vec_brand ,test_vec_t1 ,\\\n",
    "                  test_vec_t2 ,test_vec_t3 ,\n",
    "                df_test.is_missing.values.reshape(-1,1)\n",
    "                ,test_vec_desc))\n",
    "\n",
    "print(x_train.shape)\n",
    "print(x_val.shape)\n",
    "print(x_test.shape)"
   ]
  },
  {
   "cell_type": "markdown",
   "id": "1ca3651e",
   "metadata": {},
   "source": [
    "## C. Models\n",
    "\n",
    "### Linear Regression"
   ]
  },
  {
   "cell_type": "code",
   "execution_count": 39,
   "id": "ce22962e",
   "metadata": {},
   "outputs": [
    {
     "data": {
      "text/html": [
       "<style>#sk-container-id-1 {color: black;background-color: white;}#sk-container-id-1 pre{padding: 0;}#sk-container-id-1 div.sk-toggleable {background-color: white;}#sk-container-id-1 label.sk-toggleable__label {cursor: pointer;display: block;width: 100%;margin-bottom: 0;padding: 0.3em;box-sizing: border-box;text-align: center;}#sk-container-id-1 label.sk-toggleable__label-arrow:before {content: \"▸\";float: left;margin-right: 0.25em;color: #696969;}#sk-container-id-1 label.sk-toggleable__label-arrow:hover:before {color: black;}#sk-container-id-1 div.sk-estimator:hover label.sk-toggleable__label-arrow:before {color: black;}#sk-container-id-1 div.sk-toggleable__content {max-height: 0;max-width: 0;overflow: hidden;text-align: left;background-color: #f0f8ff;}#sk-container-id-1 div.sk-toggleable__content pre {margin: 0.2em;color: black;border-radius: 0.25em;background-color: #f0f8ff;}#sk-container-id-1 input.sk-toggleable__control:checked~div.sk-toggleable__content {max-height: 200px;max-width: 100%;overflow: auto;}#sk-container-id-1 input.sk-toggleable__control:checked~label.sk-toggleable__label-arrow:before {content: \"▾\";}#sk-container-id-1 div.sk-estimator input.sk-toggleable__control:checked~label.sk-toggleable__label {background-color: #d4ebff;}#sk-container-id-1 div.sk-label input.sk-toggleable__control:checked~label.sk-toggleable__label {background-color: #d4ebff;}#sk-container-id-1 input.sk-hidden--visually {border: 0;clip: rect(1px 1px 1px 1px);clip: rect(1px, 1px, 1px, 1px);height: 1px;margin: -1px;overflow: hidden;padding: 0;position: absolute;width: 1px;}#sk-container-id-1 div.sk-estimator {font-family: monospace;background-color: #f0f8ff;border: 1px dotted black;border-radius: 0.25em;box-sizing: border-box;margin-bottom: 0.5em;}#sk-container-id-1 div.sk-estimator:hover {background-color: #d4ebff;}#sk-container-id-1 div.sk-parallel-item::after {content: \"\";width: 100%;border-bottom: 1px solid gray;flex-grow: 1;}#sk-container-id-1 div.sk-label:hover label.sk-toggleable__label {background-color: #d4ebff;}#sk-container-id-1 div.sk-serial::before {content: \"\";position: absolute;border-left: 1px solid gray;box-sizing: border-box;top: 0;bottom: 0;left: 50%;z-index: 0;}#sk-container-id-1 div.sk-serial {display: flex;flex-direction: column;align-items: center;background-color: white;padding-right: 0.2em;padding-left: 0.2em;position: relative;}#sk-container-id-1 div.sk-item {position: relative;z-index: 1;}#sk-container-id-1 div.sk-parallel {display: flex;align-items: stretch;justify-content: center;background-color: white;position: relative;}#sk-container-id-1 div.sk-item::before, #sk-container-id-1 div.sk-parallel-item::before {content: \"\";position: absolute;border-left: 1px solid gray;box-sizing: border-box;top: 0;bottom: 0;left: 50%;z-index: -1;}#sk-container-id-1 div.sk-parallel-item {display: flex;flex-direction: column;z-index: 1;position: relative;background-color: white;}#sk-container-id-1 div.sk-parallel-item:first-child::after {align-self: flex-end;width: 50%;}#sk-container-id-1 div.sk-parallel-item:last-child::after {align-self: flex-start;width: 50%;}#sk-container-id-1 div.sk-parallel-item:only-child::after {width: 0;}#sk-container-id-1 div.sk-dashed-wrapped {border: 1px dashed gray;margin: 0 0.4em 0.5em 0.4em;box-sizing: border-box;padding-bottom: 0.4em;background-color: white;}#sk-container-id-1 div.sk-label label {font-family: monospace;font-weight: bold;display: inline-block;line-height: 1.2em;}#sk-container-id-1 div.sk-label-container {text-align: center;}#sk-container-id-1 div.sk-container {/* jupyter's `normalize.less` sets `[hidden] { display: none; }` but bootstrap.min.css set `[hidden] { display: none !important; }` so we also need the `!important` here to be able to override the default hidden behavior on the sphinx rendered scikit-learn.org. See: https://github.com/scikit-learn/scikit-learn/issues/21755 */display: inline-block !important;position: relative;}#sk-container-id-1 div.sk-text-repr-fallback {display: none;}</style><div id=\"sk-container-id-1\" class=\"sk-top-container\"><div class=\"sk-text-repr-fallback\"><pre>LinearRegression()</pre><b>In a Jupyter environment, please rerun this cell to show the HTML representation or trust the notebook. <br />On GitHub, the HTML representation is unable to render, please try loading this page with nbviewer.org.</b></div><div class=\"sk-container\" hidden><div class=\"sk-item\"><div class=\"sk-estimator sk-toggleable\"><input class=\"sk-toggleable__control sk-hidden--visually\" id=\"sk-estimator-id-1\" type=\"checkbox\" checked><label for=\"sk-estimator-id-1\" class=\"sk-toggleable__label sk-toggleable__label-arrow\">LinearRegression</label><div class=\"sk-toggleable__content\"><pre>LinearRegression()</pre></div></div></div></div></div>"
      ],
      "text/plain": [
       "LinearRegression()"
      ]
     },
     "execution_count": 39,
     "metadata": {},
     "output_type": "execute_result"
    }
   ],
   "source": [
    "#TRAINING LINEAR REGERSSION\n",
    "LR = LinearRegression()\n",
    "LR.fit(x_train,y_train)"
   ]
  },
  {
   "cell_type": "code",
   "execution_count": 40,
   "id": "5ee1e548",
   "metadata": {},
   "outputs": [],
   "source": [
    "# TRAIN PREDICTION\n",
    "train_pred_lr = LR.predict(x_train)\n",
    "# VALIDATION PREDICTION\n",
    "val_pred_lr = LR.predict(x_val)"
   ]
  },
  {
   "cell_type": "code",
   "execution_count": 45,
   "id": "a097d0a5",
   "metadata": {},
   "outputs": [
    {
     "name": "stdout",
     "output_type": "stream",
     "text": [
      "Train RMSE =  0.4241131941562906\n",
      "Validation RMSE =  0.46178733658920706\n"
     ]
    }
   ],
   "source": [
    "# TRAIN ERROR\n",
    "train_rmse = np.sqrt(mean_squared_error(y_train,train_pred_lr))\n",
    "print(\"Train RMSE = \",train_rmse)\n",
    "# TEST ERROR\n",
    "val_rmse = np.sqrt(mean_squared_error(y_val,val_pred_lr))\n",
    "print(\"Validation RMSE = \",val_rmse)"
   ]
  },
  {
   "cell_type": "markdown",
   "id": "085a7659",
   "metadata": {},
   "source": [
    "## Ridge"
   ]
  },
  {
   "cell_type": "code",
   "execution_count": 44,
   "id": "479765e2",
   "metadata": {},
   "outputs": [
    {
     "data": {
      "text/html": [
       "<style>#sk-container-id-2 {color: black;background-color: white;}#sk-container-id-2 pre{padding: 0;}#sk-container-id-2 div.sk-toggleable {background-color: white;}#sk-container-id-2 label.sk-toggleable__label {cursor: pointer;display: block;width: 100%;margin-bottom: 0;padding: 0.3em;box-sizing: border-box;text-align: center;}#sk-container-id-2 label.sk-toggleable__label-arrow:before {content: \"▸\";float: left;margin-right: 0.25em;color: #696969;}#sk-container-id-2 label.sk-toggleable__label-arrow:hover:before {color: black;}#sk-container-id-2 div.sk-estimator:hover label.sk-toggleable__label-arrow:before {color: black;}#sk-container-id-2 div.sk-toggleable__content {max-height: 0;max-width: 0;overflow: hidden;text-align: left;background-color: #f0f8ff;}#sk-container-id-2 div.sk-toggleable__content pre {margin: 0.2em;color: black;border-radius: 0.25em;background-color: #f0f8ff;}#sk-container-id-2 input.sk-toggleable__control:checked~div.sk-toggleable__content {max-height: 200px;max-width: 100%;overflow: auto;}#sk-container-id-2 input.sk-toggleable__control:checked~label.sk-toggleable__label-arrow:before {content: \"▾\";}#sk-container-id-2 div.sk-estimator input.sk-toggleable__control:checked~label.sk-toggleable__label {background-color: #d4ebff;}#sk-container-id-2 div.sk-label input.sk-toggleable__control:checked~label.sk-toggleable__label {background-color: #d4ebff;}#sk-container-id-2 input.sk-hidden--visually {border: 0;clip: rect(1px 1px 1px 1px);clip: rect(1px, 1px, 1px, 1px);height: 1px;margin: -1px;overflow: hidden;padding: 0;position: absolute;width: 1px;}#sk-container-id-2 div.sk-estimator {font-family: monospace;background-color: #f0f8ff;border: 1px dotted black;border-radius: 0.25em;box-sizing: border-box;margin-bottom: 0.5em;}#sk-container-id-2 div.sk-estimator:hover {background-color: #d4ebff;}#sk-container-id-2 div.sk-parallel-item::after {content: \"\";width: 100%;border-bottom: 1px solid gray;flex-grow: 1;}#sk-container-id-2 div.sk-label:hover label.sk-toggleable__label {background-color: #d4ebff;}#sk-container-id-2 div.sk-serial::before {content: \"\";position: absolute;border-left: 1px solid gray;box-sizing: border-box;top: 0;bottom: 0;left: 50%;z-index: 0;}#sk-container-id-2 div.sk-serial {display: flex;flex-direction: column;align-items: center;background-color: white;padding-right: 0.2em;padding-left: 0.2em;position: relative;}#sk-container-id-2 div.sk-item {position: relative;z-index: 1;}#sk-container-id-2 div.sk-parallel {display: flex;align-items: stretch;justify-content: center;background-color: white;position: relative;}#sk-container-id-2 div.sk-item::before, #sk-container-id-2 div.sk-parallel-item::before {content: \"\";position: absolute;border-left: 1px solid gray;box-sizing: border-box;top: 0;bottom: 0;left: 50%;z-index: -1;}#sk-container-id-2 div.sk-parallel-item {display: flex;flex-direction: column;z-index: 1;position: relative;background-color: white;}#sk-container-id-2 div.sk-parallel-item:first-child::after {align-self: flex-end;width: 50%;}#sk-container-id-2 div.sk-parallel-item:last-child::after {align-self: flex-start;width: 50%;}#sk-container-id-2 div.sk-parallel-item:only-child::after {width: 0;}#sk-container-id-2 div.sk-dashed-wrapped {border: 1px dashed gray;margin: 0 0.4em 0.5em 0.4em;box-sizing: border-box;padding-bottom: 0.4em;background-color: white;}#sk-container-id-2 div.sk-label label {font-family: monospace;font-weight: bold;display: inline-block;line-height: 1.2em;}#sk-container-id-2 div.sk-label-container {text-align: center;}#sk-container-id-2 div.sk-container {/* jupyter's `normalize.less` sets `[hidden] { display: none; }` but bootstrap.min.css set `[hidden] { display: none !important; }` so we also need the `!important` here to be able to override the default hidden behavior on the sphinx rendered scikit-learn.org. See: https://github.com/scikit-learn/scikit-learn/issues/21755 */display: inline-block !important;position: relative;}#sk-container-id-2 div.sk-text-repr-fallback {display: none;}</style><div id=\"sk-container-id-2\" class=\"sk-top-container\"><div class=\"sk-text-repr-fallback\"><pre>Ridge(alpha=10)</pre><b>In a Jupyter environment, please rerun this cell to show the HTML representation or trust the notebook. <br />On GitHub, the HTML representation is unable to render, please try loading this page with nbviewer.org.</b></div><div class=\"sk-container\" hidden><div class=\"sk-item\"><div class=\"sk-estimator sk-toggleable\"><input class=\"sk-toggleable__control sk-hidden--visually\" id=\"sk-estimator-id-2\" type=\"checkbox\" checked><label for=\"sk-estimator-id-2\" class=\"sk-toggleable__label sk-toggleable__label-arrow\">Ridge</label><div class=\"sk-toggleable__content\"><pre>Ridge(alpha=10)</pre></div></div></div></div></div>"
      ],
      "text/plain": [
       "Ridge(alpha=10)"
      ]
     },
     "execution_count": 44,
     "metadata": {},
     "output_type": "execute_result"
    }
   ],
   "source": [
    "l2_best = Ridge(alpha=10)\n",
    "l2_best.fit(x_train,y_train)"
   ]
  },
  {
   "cell_type": "code",
   "execution_count": 46,
   "id": "60795c1b",
   "metadata": {},
   "outputs": [],
   "source": [
    "# TRAIN PREDICTION\n",
    "train_pred_rdg = l2_best.predict(x_train)\n",
    "# VALIDATION PREDICTION\n",
    "val_pred_rdg = l2_best.predict(x_val)"
   ]
  },
  {
   "cell_type": "code",
   "execution_count": 47,
   "id": "c65b384d",
   "metadata": {},
   "outputs": [
    {
     "name": "stdout",
     "output_type": "stream",
     "text": [
      "Train Error =  0.44111429205313984\n",
      "Validation Error =  0.45793584188055164\n"
     ]
    }
   ],
   "source": [
    "# TRAIN ERROR\n",
    "train_rmse_rdg = np.sqrt(mean_squared_error(y_train,train_pred_rdg))\n",
    "print(\"Train Error = \",train_rmse_rdg)\n",
    "# VALIDATION ERROR\n",
    "val_rmse_rdg = np.sqrt(mean_squared_error(y_val,val_pred_rdg))\n",
    "print(\"Validation Error = \",val_rmse_rdg)"
   ]
  },
  {
   "cell_type": "markdown",
   "id": "f3f99ef1",
   "metadata": {},
   "source": [
    "## Lasso"
   ]
  },
  {
   "cell_type": "code",
   "execution_count": 51,
   "id": "d482d1c3",
   "metadata": {},
   "outputs": [],
   "source": [
    "from sklearn.linear_model import Lasso"
   ]
  },
  {
   "cell_type": "code",
   "execution_count": 52,
   "id": "118209ea",
   "metadata": {},
   "outputs": [],
   "source": [
    "# Create a Lasso regression model\n",
    "lasso_model = Lasso(alpha=1.0)  "
   ]
  },
  {
   "cell_type": "code",
   "execution_count": 54,
   "id": "040f0ba7",
   "metadata": {},
   "outputs": [
    {
     "data": {
      "text/html": [
       "<style>#sk-container-id-3 {color: black;background-color: white;}#sk-container-id-3 pre{padding: 0;}#sk-container-id-3 div.sk-toggleable {background-color: white;}#sk-container-id-3 label.sk-toggleable__label {cursor: pointer;display: block;width: 100%;margin-bottom: 0;padding: 0.3em;box-sizing: border-box;text-align: center;}#sk-container-id-3 label.sk-toggleable__label-arrow:before {content: \"▸\";float: left;margin-right: 0.25em;color: #696969;}#sk-container-id-3 label.sk-toggleable__label-arrow:hover:before {color: black;}#sk-container-id-3 div.sk-estimator:hover label.sk-toggleable__label-arrow:before {color: black;}#sk-container-id-3 div.sk-toggleable__content {max-height: 0;max-width: 0;overflow: hidden;text-align: left;background-color: #f0f8ff;}#sk-container-id-3 div.sk-toggleable__content pre {margin: 0.2em;color: black;border-radius: 0.25em;background-color: #f0f8ff;}#sk-container-id-3 input.sk-toggleable__control:checked~div.sk-toggleable__content {max-height: 200px;max-width: 100%;overflow: auto;}#sk-container-id-3 input.sk-toggleable__control:checked~label.sk-toggleable__label-arrow:before {content: \"▾\";}#sk-container-id-3 div.sk-estimator input.sk-toggleable__control:checked~label.sk-toggleable__label {background-color: #d4ebff;}#sk-container-id-3 div.sk-label input.sk-toggleable__control:checked~label.sk-toggleable__label {background-color: #d4ebff;}#sk-container-id-3 input.sk-hidden--visually {border: 0;clip: rect(1px 1px 1px 1px);clip: rect(1px, 1px, 1px, 1px);height: 1px;margin: -1px;overflow: hidden;padding: 0;position: absolute;width: 1px;}#sk-container-id-3 div.sk-estimator {font-family: monospace;background-color: #f0f8ff;border: 1px dotted black;border-radius: 0.25em;box-sizing: border-box;margin-bottom: 0.5em;}#sk-container-id-3 div.sk-estimator:hover {background-color: #d4ebff;}#sk-container-id-3 div.sk-parallel-item::after {content: \"\";width: 100%;border-bottom: 1px solid gray;flex-grow: 1;}#sk-container-id-3 div.sk-label:hover label.sk-toggleable__label {background-color: #d4ebff;}#sk-container-id-3 div.sk-serial::before {content: \"\";position: absolute;border-left: 1px solid gray;box-sizing: border-box;top: 0;bottom: 0;left: 50%;z-index: 0;}#sk-container-id-3 div.sk-serial {display: flex;flex-direction: column;align-items: center;background-color: white;padding-right: 0.2em;padding-left: 0.2em;position: relative;}#sk-container-id-3 div.sk-item {position: relative;z-index: 1;}#sk-container-id-3 div.sk-parallel {display: flex;align-items: stretch;justify-content: center;background-color: white;position: relative;}#sk-container-id-3 div.sk-item::before, #sk-container-id-3 div.sk-parallel-item::before {content: \"\";position: absolute;border-left: 1px solid gray;box-sizing: border-box;top: 0;bottom: 0;left: 50%;z-index: -1;}#sk-container-id-3 div.sk-parallel-item {display: flex;flex-direction: column;z-index: 1;position: relative;background-color: white;}#sk-container-id-3 div.sk-parallel-item:first-child::after {align-self: flex-end;width: 50%;}#sk-container-id-3 div.sk-parallel-item:last-child::after {align-self: flex-start;width: 50%;}#sk-container-id-3 div.sk-parallel-item:only-child::after {width: 0;}#sk-container-id-3 div.sk-dashed-wrapped {border: 1px dashed gray;margin: 0 0.4em 0.5em 0.4em;box-sizing: border-box;padding-bottom: 0.4em;background-color: white;}#sk-container-id-3 div.sk-label label {font-family: monospace;font-weight: bold;display: inline-block;line-height: 1.2em;}#sk-container-id-3 div.sk-label-container {text-align: center;}#sk-container-id-3 div.sk-container {/* jupyter's `normalize.less` sets `[hidden] { display: none; }` but bootstrap.min.css set `[hidden] { display: none !important; }` so we also need the `!important` here to be able to override the default hidden behavior on the sphinx rendered scikit-learn.org. See: https://github.com/scikit-learn/scikit-learn/issues/21755 */display: inline-block !important;position: relative;}#sk-container-id-3 div.sk-text-repr-fallback {display: none;}</style><div id=\"sk-container-id-3\" class=\"sk-top-container\"><div class=\"sk-text-repr-fallback\"><pre>Lasso()</pre><b>In a Jupyter environment, please rerun this cell to show the HTML representation or trust the notebook. <br />On GitHub, the HTML representation is unable to render, please try loading this page with nbviewer.org.</b></div><div class=\"sk-container\" hidden><div class=\"sk-item\"><div class=\"sk-estimator sk-toggleable\"><input class=\"sk-toggleable__control sk-hidden--visually\" id=\"sk-estimator-id-3\" type=\"checkbox\" checked><label for=\"sk-estimator-id-3\" class=\"sk-toggleable__label sk-toggleable__label-arrow\">Lasso</label><div class=\"sk-toggleable__content\"><pre>Lasso()</pre></div></div></div></div></div>"
      ],
      "text/plain": [
       "Lasso()"
      ]
     },
     "execution_count": 54,
     "metadata": {},
     "output_type": "execute_result"
    }
   ],
   "source": [
    "# Train the model on the training data\n",
    "lasso_model.fit(x_train, y_train)"
   ]
  },
  {
   "cell_type": "code",
   "execution_count": 55,
   "id": "b56b6d21",
   "metadata": {},
   "outputs": [],
   "source": [
    "# TRAIN PREDICTION\n",
    "train_pred_lasso = lasso_model.predict(x_train)\n",
    "# VALIDATION PREDICTION\n",
    "val_pred_lasso = lasso_model.predict(x_val)"
   ]
  },
  {
   "cell_type": "code",
   "execution_count": 56,
   "id": "b4b11d9c",
   "metadata": {},
   "outputs": [
    {
     "name": "stdout",
     "output_type": "stream",
     "text": [
      "Train Error =  0.7493290724323619\n",
      "Validation Error =  0.7481290183704847\n"
     ]
    }
   ],
   "source": [
    "# TRAIN ERROR\n",
    "train_rmse_lasso = np.sqrt(mean_squared_error(y_train,train_pred_lasso))\n",
    "print(\"Train Error = \",train_rmse_lasso)\n",
    "# VALIDATION ERROR\n",
    "val_rmse_lasso = np.sqrt(mean_squared_error(y_val,val_pred_lasso))\n",
    "print(\"Validation Error = \",val_rmse_lasso)"
   ]
  },
  {
   "cell_type": "markdown",
   "id": "da0aac47",
   "metadata": {},
   "source": [
    "## Decision Tree"
   ]
  },
  {
   "cell_type": "code",
   "execution_count": 57,
   "id": "050f91e0",
   "metadata": {},
   "outputs": [],
   "source": [
    "from sklearn.tree import DecisionTreeRegressor"
   ]
  },
  {
   "cell_type": "code",
   "execution_count": 58,
   "id": "da0d334f",
   "metadata": {},
   "outputs": [],
   "source": [
    "tree_model = DecisionTreeRegressor(max_depth=3)"
   ]
  },
  {
   "cell_type": "code",
   "execution_count": 59,
   "id": "22851e7d",
   "metadata": {},
   "outputs": [
    {
     "data": {
      "text/html": [
       "<style>#sk-container-id-4 {color: black;background-color: white;}#sk-container-id-4 pre{padding: 0;}#sk-container-id-4 div.sk-toggleable {background-color: white;}#sk-container-id-4 label.sk-toggleable__label {cursor: pointer;display: block;width: 100%;margin-bottom: 0;padding: 0.3em;box-sizing: border-box;text-align: center;}#sk-container-id-4 label.sk-toggleable__label-arrow:before {content: \"▸\";float: left;margin-right: 0.25em;color: #696969;}#sk-container-id-4 label.sk-toggleable__label-arrow:hover:before {color: black;}#sk-container-id-4 div.sk-estimator:hover label.sk-toggleable__label-arrow:before {color: black;}#sk-container-id-4 div.sk-toggleable__content {max-height: 0;max-width: 0;overflow: hidden;text-align: left;background-color: #f0f8ff;}#sk-container-id-4 div.sk-toggleable__content pre {margin: 0.2em;color: black;border-radius: 0.25em;background-color: #f0f8ff;}#sk-container-id-4 input.sk-toggleable__control:checked~div.sk-toggleable__content {max-height: 200px;max-width: 100%;overflow: auto;}#sk-container-id-4 input.sk-toggleable__control:checked~label.sk-toggleable__label-arrow:before {content: \"▾\";}#sk-container-id-4 div.sk-estimator input.sk-toggleable__control:checked~label.sk-toggleable__label {background-color: #d4ebff;}#sk-container-id-4 div.sk-label input.sk-toggleable__control:checked~label.sk-toggleable__label {background-color: #d4ebff;}#sk-container-id-4 input.sk-hidden--visually {border: 0;clip: rect(1px 1px 1px 1px);clip: rect(1px, 1px, 1px, 1px);height: 1px;margin: -1px;overflow: hidden;padding: 0;position: absolute;width: 1px;}#sk-container-id-4 div.sk-estimator {font-family: monospace;background-color: #f0f8ff;border: 1px dotted black;border-radius: 0.25em;box-sizing: border-box;margin-bottom: 0.5em;}#sk-container-id-4 div.sk-estimator:hover {background-color: #d4ebff;}#sk-container-id-4 div.sk-parallel-item::after {content: \"\";width: 100%;border-bottom: 1px solid gray;flex-grow: 1;}#sk-container-id-4 div.sk-label:hover label.sk-toggleable__label {background-color: #d4ebff;}#sk-container-id-4 div.sk-serial::before {content: \"\";position: absolute;border-left: 1px solid gray;box-sizing: border-box;top: 0;bottom: 0;left: 50%;z-index: 0;}#sk-container-id-4 div.sk-serial {display: flex;flex-direction: column;align-items: center;background-color: white;padding-right: 0.2em;padding-left: 0.2em;position: relative;}#sk-container-id-4 div.sk-item {position: relative;z-index: 1;}#sk-container-id-4 div.sk-parallel {display: flex;align-items: stretch;justify-content: center;background-color: white;position: relative;}#sk-container-id-4 div.sk-item::before, #sk-container-id-4 div.sk-parallel-item::before {content: \"\";position: absolute;border-left: 1px solid gray;box-sizing: border-box;top: 0;bottom: 0;left: 50%;z-index: -1;}#sk-container-id-4 div.sk-parallel-item {display: flex;flex-direction: column;z-index: 1;position: relative;background-color: white;}#sk-container-id-4 div.sk-parallel-item:first-child::after {align-self: flex-end;width: 50%;}#sk-container-id-4 div.sk-parallel-item:last-child::after {align-self: flex-start;width: 50%;}#sk-container-id-4 div.sk-parallel-item:only-child::after {width: 0;}#sk-container-id-4 div.sk-dashed-wrapped {border: 1px dashed gray;margin: 0 0.4em 0.5em 0.4em;box-sizing: border-box;padding-bottom: 0.4em;background-color: white;}#sk-container-id-4 div.sk-label label {font-family: monospace;font-weight: bold;display: inline-block;line-height: 1.2em;}#sk-container-id-4 div.sk-label-container {text-align: center;}#sk-container-id-4 div.sk-container {/* jupyter's `normalize.less` sets `[hidden] { display: none; }` but bootstrap.min.css set `[hidden] { display: none !important; }` so we also need the `!important` here to be able to override the default hidden behavior on the sphinx rendered scikit-learn.org. See: https://github.com/scikit-learn/scikit-learn/issues/21755 */display: inline-block !important;position: relative;}#sk-container-id-4 div.sk-text-repr-fallback {display: none;}</style><div id=\"sk-container-id-4\" class=\"sk-top-container\"><div class=\"sk-text-repr-fallback\"><pre>DecisionTreeRegressor(max_depth=3)</pre><b>In a Jupyter environment, please rerun this cell to show the HTML representation or trust the notebook. <br />On GitHub, the HTML representation is unable to render, please try loading this page with nbviewer.org.</b></div><div class=\"sk-container\" hidden><div class=\"sk-item\"><div class=\"sk-estimator sk-toggleable\"><input class=\"sk-toggleable__control sk-hidden--visually\" id=\"sk-estimator-id-4\" type=\"checkbox\" checked><label for=\"sk-estimator-id-4\" class=\"sk-toggleable__label sk-toggleable__label-arrow\">DecisionTreeRegressor</label><div class=\"sk-toggleable__content\"><pre>DecisionTreeRegressor(max_depth=3)</pre></div></div></div></div></div>"
      ],
      "text/plain": [
       "DecisionTreeRegressor(max_depth=3)"
      ]
     },
     "execution_count": 59,
     "metadata": {},
     "output_type": "execute_result"
    }
   ],
   "source": [
    "# Train the model on the training data\n",
    "tree_model.fit(x_train, y_train)"
   ]
  },
  {
   "cell_type": "code",
   "execution_count": 60,
   "id": "e99960a2",
   "metadata": {},
   "outputs": [],
   "source": [
    "# TRAIN PREDICTION\n",
    "train_pred_tree = tree_model.predict(x_train)\n",
    "# VALIDATION PREDICTION\n",
    "val_pred_tree = tree_model.predict(x_val)"
   ]
  },
  {
   "cell_type": "code",
   "execution_count": 61,
   "id": "8efb6b6c",
   "metadata": {},
   "outputs": [
    {
     "name": "stdout",
     "output_type": "stream",
     "text": [
      "Train Error =  0.7031424790439699\n",
      "Validation Error =  0.7014345144027383\n"
     ]
    }
   ],
   "source": [
    "# TRAIN ERROR\n",
    "train_rmse_tree = np.sqrt(mean_squared_error(y_train,train_pred_tree))\n",
    "print(\"Train Error = \",train_rmse_tree)\n",
    "# VALIDATION ERROR\n",
    "val_rmse_tree = np.sqrt(mean_squared_error(y_val,val_pred_tree))\n",
    "print(\"Validation Error = \",val_rmse_tree)"
   ]
  },
  {
   "cell_type": "markdown",
   "id": "9ea63104",
   "metadata": {},
   "source": [
    "## Summary of all Models:"
   ]
  },
  {
   "cell_type": "code",
   "execution_count": 3,
   "id": "e7d6cdd8",
   "metadata": {},
   "outputs": [],
   "source": [
    "from prettytable import PrettyTable"
   ]
  },
  {
   "cell_type": "code",
   "execution_count": 4,
   "id": "1e5c041f",
   "metadata": {},
   "outputs": [
    {
     "name": "stdout",
     "output_type": "stream",
     "text": [
      "+-------------------+------------+---------+\n",
      "|       Model       | Train RMSE | CV RMSE |\n",
      "+-------------------+------------+---------+\n",
      "| Linear Regression |   0.4241   |  0.4617 |\n",
      "|       Ridge       |   0.4411   |  0.4579 |\n",
      "|       Lasso       |   0.7493   |  0.7481 |\n",
      "|   Decision Tree   |   0.7031   |  0.7014 |\n",
      "+-------------------+------------+---------+\n"
     ]
    }
   ],
   "source": [
    "table = PrettyTable([\"Model\", \"Train RMSE\", \"CV RMSE\"])\n",
    "table.add_row([\"Linear Regression\",  \"0.4241\", \"0.4617\"])\n",
    "table.add_row([\"Ridge\", \"0.4411\", \"0.4579\"])\n",
    "table.add_row([\"Lasso\", \"0.7493\", \"0.7481\"])\n",
    "table.add_row([\"Decision Tree \",\"0.7031\", \"0.7014\"])\n",
    "\n",
    "print(table)"
   ]
  },
  {
   "cell_type": "markdown",
   "id": "08368462",
   "metadata": {},
   "source": [
    "- As the main constraint of the given problem statement is to reduce rmsle metric. After training different ML models on the data we find a least RMSLE of 0.4579 on cv data.(Ridge Model)"
   ]
  },
  {
   "cell_type": "code",
   "execution_count": null,
   "id": "048d763b",
   "metadata": {},
   "outputs": [],
   "source": []
  },
  {
   "cell_type": "code",
   "execution_count": null,
   "id": "578a3486",
   "metadata": {},
   "outputs": [],
   "source": []
  },
  {
   "cell_type": "code",
   "execution_count": null,
   "id": "bfde36ec",
   "metadata": {},
   "outputs": [],
   "source": []
  }
 ],
 "metadata": {
  "kernelspec": {
   "display_name": "Python 3",
   "language": "python",
   "name": "python3"
  },
  "language_info": {
   "codemirror_mode": {
    "name": "ipython",
    "version": 3
   },
   "file_extension": ".py",
   "mimetype": "text/x-python",
   "name": "python",
   "nbconvert_exporter": "python",
   "pygments_lexer": "ipython3",
   "version": "3.10.9"
  }
 },
 "nbformat": 4,
 "nbformat_minor": 5
}
